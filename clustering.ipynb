{
 "cells": [
  {
   "cell_type": "markdown",
   "metadata": {},
   "source": [
    "## Clustering"
   ]
  },
  {
   "cell_type": "code",
   "execution_count": 18,
   "metadata": {},
   "outputs": [],
   "source": [
    "import pandas as pd\n",
    "import numpy as np\n",
    "from sklearn.preprocessing import StandardScaler\n",
    "from sklearn.cluster import KMeans\n",
    "from sklearn.mixture import GaussianMixture\n",
    "import matplotlib.pyplot as plt\n",
    "from sklearn.metrics import (\n",
    "    silhouette_score,\n",
    "    calinski_harabasz_score,\n",
    "    davies_bouldin_score\n",
    ")"
   ]
  },
  {
   "cell_type": "markdown",
   "metadata": {},
   "source": [
    "Load the dataset:"
   ]
  },
  {
   "cell_type": "code",
   "execution_count": 19,
   "metadata": {},
   "outputs": [
    {
     "data": {
      "text/html": [
       "<div>\n",
       "<style scoped>\n",
       "    .dataframe tbody tr th:only-of-type {\n",
       "        vertical-align: middle;\n",
       "    }\n",
       "\n",
       "    .dataframe tbody tr th {\n",
       "        vertical-align: top;\n",
       "    }\n",
       "\n",
       "    .dataframe thead th {\n",
       "        text-align: right;\n",
       "    }\n",
       "</style>\n",
       "<table border=\"1\" class=\"dataframe\">\n",
       "  <thead>\n",
       "    <tr style=\"text-align: right;\">\n",
       "      <th></th>\n",
       "      <th>species</th>\n",
       "      <th>length</th>\n",
       "      <th>weight</th>\n",
       "      <th>w_l_ratio</th>\n",
       "    </tr>\n",
       "  </thead>\n",
       "  <tbody>\n",
       "    <tr>\n",
       "      <th>0</th>\n",
       "      <td>Anabas testudineus</td>\n",
       "      <td>10.66</td>\n",
       "      <td>3.45</td>\n",
       "      <td>0.32</td>\n",
       "    </tr>\n",
       "    <tr>\n",
       "      <th>1</th>\n",
       "      <td>Anabas testudineus</td>\n",
       "      <td>6.91</td>\n",
       "      <td>3.27</td>\n",
       "      <td>0.47</td>\n",
       "    </tr>\n",
       "    <tr>\n",
       "      <th>2</th>\n",
       "      <td>Anabas testudineus</td>\n",
       "      <td>8.38</td>\n",
       "      <td>3.46</td>\n",
       "      <td>0.41</td>\n",
       "    </tr>\n",
       "    <tr>\n",
       "      <th>3</th>\n",
       "      <td>Anabas testudineus</td>\n",
       "      <td>7.57</td>\n",
       "      <td>3.36</td>\n",
       "      <td>0.44</td>\n",
       "    </tr>\n",
       "    <tr>\n",
       "      <th>4</th>\n",
       "      <td>Anabas testudineus</td>\n",
       "      <td>10.83</td>\n",
       "      <td>3.38</td>\n",
       "      <td>0.31</td>\n",
       "    </tr>\n",
       "  </tbody>\n",
       "</table>\n",
       "</div>"
      ],
      "text/plain": [
       "              species  length  weight  w_l_ratio\n",
       "0  Anabas testudineus   10.66    3.45       0.32\n",
       "1  Anabas testudineus    6.91    3.27       0.47\n",
       "2  Anabas testudineus    8.38    3.46       0.41\n",
       "3  Anabas testudineus    7.57    3.36       0.44\n",
       "4  Anabas testudineus   10.83    3.38       0.31"
      ]
     },
     "execution_count": 19,
     "metadata": {},
     "output_type": "execute_result"
    }
   ],
   "source": [
    "fish_data = pd.read_csv('datasets/fish_data.csv')\n",
    "fish_data.head()"
   ]
  },
  {
   "cell_type": "code",
   "execution_count": 20,
   "metadata": {},
   "outputs": [
    {
     "name": "stdout",
     "output_type": "stream",
     "text": [
      "Number of rows: 4080\n",
      "Number of columns: 4\n"
     ]
    }
   ],
   "source": [
    "rows, columns = fish_data.shape\n",
    "\n",
    "print(f\"Number of rows: {rows}\")\n",
    "print(f\"Number of columns: {columns}\")"
   ]
  },
  {
   "cell_type": "markdown",
   "metadata": {},
   "source": [
    "Clean and the data by dropping rows:"
   ]
  },
  {
   "cell_type": "code",
   "execution_count": 21,
   "metadata": {},
   "outputs": [
    {
     "name": "stdout",
     "output_type": "stream",
     "text": [
      "Number of rows: 4080\n",
      "Number of columns: 4\n"
     ]
    }
   ],
   "source": [
    "fish_data = fish_data.dropna()\n",
    "print(f\"Number of rows: {rows}\")\n",
    "print(f\"Number of columns: {columns}\")\n"
   ]
  },
  {
   "cell_type": "code",
   "execution_count": 22,
   "metadata": {},
   "outputs": [
    {
     "name": "stdout",
     "output_type": "stream",
     "text": [
      "Number of rows: 3971\n",
      "Number of columns: 4\n"
     ]
    }
   ],
   "source": [
    "fish_data = fish_data.drop_duplicates()\n",
    "rows, columns = fish_data.shape\n",
    "print(f\"Number of rows: {rows}\")\n",
    "print(f\"Number of columns: {columns}\")\n"
   ]
  },
  {
   "cell_type": "markdown",
   "metadata": {},
   "source": [
    "Define and normalize input features:"
   ]
  },
  {
   "cell_type": "code",
   "execution_count": 12,
   "metadata": {},
   "outputs": [],
   "source": [
    "features = ['length', 'weight', 'w_l_ratio']\n",
    "X = fish_data[features].values\n",
    "\n",
    "# Scale the features\n",
    "scaler = StandardScaler()\n",
    "X_scaled = scaler.fit_transform(X)\n"
   ]
  },
  {
   "cell_type": "code",
   "execution_count": 13,
   "metadata": {},
   "outputs": [],
   "source": [
    "results = {\n",
    "        'kmeans': {\n",
    "            'silhouette': [],\n",
    "            'calinski_harabasz': [],\n",
    "            'davies_bouldin': []\n",
    "        },\n",
    "        'gmm': {\n",
    "            'silhouette': [],\n",
    "            'calinski_harabasz': [],\n",
    "            'davies_bouldin': []\n",
    "        }\n",
    "    }"
   ]
  },
  {
   "cell_type": "code",
   "execution_count": 14,
   "metadata": {},
   "outputs": [],
   "source": [
    "def evaluate_clustering(X, labels):\n",
    "    \"\"\"\n",
    "    Calculate multiple clustering evaluation metrics\n",
    "    \n",
    "    Parameters:\n",
    "    X: scaled feature matrix\n",
    "    labels: cluster labels\n",
    "    \n",
    "    Returns:\n",
    "    dict: Dictionary of evaluation metrics\n",
    "    \"\"\"\n",
    "    metrics = {\n",
    "        'silhouette': silhouette_score(X, labels),\n",
    "        'calinski_harabasz': calinski_harabasz_score(X, labels),\n",
    "        'davies_bouldin': davies_bouldin_score(X, labels)\n",
    "    }\n",
    "    return metrics"
   ]
  },
  {
   "cell_type": "markdown",
   "metadata": {},
   "source": [
    "Calculate scores for a range of number of clusters:"
   ]
  },
  {
   "cell_type": "code",
   "execution_count": 15,
   "metadata": {},
   "outputs": [],
   "source": [
    "kmeans_scores = []\n",
    "gmm_scores = []\n",
    "max_clusters = 10\n",
    "\n",
    "for n_clusters in range(2, max_clusters + 1):\n",
    "    # KMeans\n",
    "    kmeans = KMeans(n_clusters=n_clusters, random_state=42)\n",
    "    kmeans_labels = kmeans.fit_predict(X_scaled)\n",
    "    kmeans_metrics = evaluate_clustering(X_scaled, kmeans_labels)\n",
    "    \n",
    "    # GMM\n",
    "    gmm = GaussianMixture(n_components=n_clusters, random_state=42)\n",
    "    gmm_labels = gmm.fit_predict(X_scaled)\n",
    "    gmm_metrics = evaluate_clustering(X_scaled, gmm_labels)\n",
    "    \n",
    "    # Store all metrics\n",
    "    for metric_name in kmeans_metrics:\n",
    "        results['kmeans'][metric_name].append(kmeans_metrics[metric_name])\n",
    "        results['gmm'][metric_name].append(gmm_metrics[metric_name])\n"
   ]
  },
  {
   "cell_type": "markdown",
   "metadata": {},
   "source": [
    "Compute the optimal number of clusters:"
   ]
  },
  {
   "cell_type": "code",
   "execution_count": null,
   "metadata": {},
   "outputs": [],
   "source": [
    "# Find optimal number of clusters\n",
    "optimal_k_kmeans = np.argmax(results['kmeans']['silhouette']) + 2\n",
    "print(f\"Optimal number of clusters for KMeans: {optimal_k_kmeans}\")\n",
    "optimal_k_gmm = np.argmax(results['gmm']['silhouette']) + 2\n",
    "print(f\"Optimal number of clusters for GMM: {optimal_k_gmm}\")\n",
    "\n",
    "# Fit final models with optimal clusters\n",
    "final_kmeans = KMeans(n_clusters=optimal_k_kmeans, random_state=42)\n",
    "final_gmm = GaussianMixture(n_components=optimal_k_gmm, random_state=42)\n",
    "\n",
    "kmeans_labels = final_kmeans.fit_predict(X_scaled)\n",
    "gmm_labels = final_gmm.fit_predict(X_scaled)"
   ]
  },
  {
   "cell_type": "markdown",
   "metadata": {},
   "source": [
    "Generate accuracy plots:"
   ]
  },
  {
   "cell_type": "code",
   "execution_count": null,
   "metadata": {},
   "outputs": [],
   "source": [
    "fig, axes = plt.subplots(3, 2, figsize=(15, 18))\n",
    "    \n",
    "# Plot evaluation metrics\n",
    "cluster_range = range(2, max_clusters + 1)\n",
    "\n",
    "# Plot silhouette scores\n",
    "axes[0, 0].plot(cluster_range, results['kmeans']['silhouette'], 'bo-', label='KMeans')\n",
    "axes[0, 0].plot(cluster_range, results['gmm']['silhouette'], 'ro-', label='GMM')\n",
    "axes[0, 0].set_xlabel('Number of clusters')\n",
    "axes[0, 0].set_ylabel('Silhouette Score')\n",
    "axes[0, 0].set_title('Silhouette Score vs Number of Clusters')\n",
    "axes[0, 0].legend()\n",
    "\n",
    "# Plot Calinski-Harabasz scores\n",
    "axes[0, 1].plot(cluster_range, results['kmeans']['calinski_harabasz'], 'bo-', label='KMeans')\n",
    "axes[0, 1].plot(cluster_range, results['gmm']['calinski_harabasz'], 'ro-', label='GMM')\n",
    "axes[0, 1].set_xlabel('Number of clusters')\n",
    "axes[0, 1].set_ylabel('Calinski-Harabasz Score')\n",
    "axes[0, 1].set_title('Calinski-Harabasz Score vs Number of Clusters')\n",
    "axes[0, 1].legend()\n",
    "\n",
    "# Plot Davies-Bouldin scores\n",
    "axes[1, 0].plot(cluster_range, results['kmeans']['davies_bouldin'], 'bo-', label='KMeans')\n",
    "axes[1, 0].plot(cluster_range, results['gmm']['davies_bouldin'], 'ro-', label='GMM')\n",
    "axes[1, 0].set_xlabel('Number of clusters')\n",
    "axes[1, 0].set_ylabel('Davies-Bouldin Score')\n",
    "axes[1, 0].set_title('Davies-Bouldin Score vs Number of Clusters\\n(Lower is better)')\n",
    "axes[1, 0].legend()\n",
    "\n",
    "# Plot original data with KMeans clusters\n",
    "scatter = axes[1, 1].scatter(fish_data['length'], fish_data['weight'], c=kmeans_labels, cmap='viridis')\n",
    "axes[1, 1].set_xlabel('Length')\n",
    "axes[1, 1].set_ylabel('Weight')\n",
    "axes[1, 1].set_title(f'KMeans Clusters (Length vs Weight)\\n{optimal_k_kmeans} clusters')\n",
    "plt.colorbar(scatter, ax=axes[1, 1])\n",
    "\n",
    "# Plot original data with GMM clusters\n",
    "scatter = axes[2, 0].scatter(fish_data['length'], fish_data['weight'], c=gmm_labels, cmap='viridis')\n",
    "axes[2, 0].set_xlabel('Length')\n",
    "axes[2, 0].set_ylabel('Weight')\n",
    "axes[2, 0].set_title(f'GMM Clusters (Length vs Weight)\\n{optimal_k_gmm} clusters')\n",
    "plt.colorbar(scatter, ax=axes[2, 0])\n",
    "\n",
    "# Plot scaled data with KMeans clusters\n",
    "scatter = axes[2, 1].scatter(fish_data['length'], fish_data['w_l_ratio'], c=gmm_labels, cmap='viridis')\n",
    "axes[2, 1].set_xlabel('Length')\n",
    "axes[2, 1].set_ylabel('Weight/Length Ratio')\n",
    "axes[2, 1].set_title('KMeans Clusters (Length vs Weight/Length Ratio)')\n",
    "plt.colorbar(scatter, ax=axes[2, 1])\n",
    "\n",
    "plt.tight_layout()\n",
    "\n",
    "# Add cluster labels to original dataframe\n",
    "\n"
   ]
  },
  {
   "cell_type": "code",
   "execution_count": null,
   "metadata": {},
   "outputs": [],
   "source": []
  }
 ],
 "metadata": {
  "kernelspec": {
   "display_name": "Python 3",
   "language": "python",
   "name": "python3"
  },
  "language_info": {
   "codemirror_mode": {
    "name": "ipython",
    "version": 3
   },
   "file_extension": ".py",
   "mimetype": "text/x-python",
   "name": "python",
   "nbconvert_exporter": "python",
   "pygments_lexer": "ipython3",
   "version": "3.9.6"
  }
 },
 "nbformat": 4,
 "nbformat_minor": 2
}
